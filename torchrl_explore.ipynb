{
 "cells": [
  {
   "cell_type": "markdown",
   "metadata": {},
   "source": [
    "# TorchRL Exploration"
   ]
  },
  {
   "cell_type": "code",
   "execution_count": 1,
   "metadata": {},
   "outputs": [],
   "source": [
    "from torchrl.envs import BraxWrapper, ParallelEnv\n",
    "import brax.envs as envs\n",
    "from Rodent_Env_Brax import Rodent\n",
    "import torch"
   ]
  },
  {
   "cell_type": "code",
   "execution_count": 2,
   "metadata": {},
   "outputs": [],
   "source": [
    "envs.register_environment(\"rodent\", Rodent)"
   ]
  },
  {
   "cell_type": "code",
   "execution_count": 3,
   "metadata": {},
   "outputs": [],
   "source": [
    "device = torch.device(\"cpu\")"
   ]
  },
  {
   "cell_type": "code",
   "execution_count": 4,
   "metadata": {},
   "outputs": [],
   "source": [
    "env = BraxWrapper(envs.get_environment(\"rodent\"), device=device)"
   ]
  },
  {
   "cell_type": "code",
   "execution_count": 5,
   "metadata": {},
   "outputs": [
    {
     "name": "stdout",
     "output_type": "stream",
     "text": [
      "TensorDict(\n",
      "    fields={\n",
      "        done: Tensor(shape=torch.Size([1]), device=cpu, dtype=torch.bool, is_shared=False),\n",
      "        observation: Tensor(shape=torch.Size([1260]), device=cpu, dtype=torch.float32, is_shared=False),\n",
      "        state: TensorDict(\n",
      "            fields={\n",
      "                done: Tensor(shape=torch.Size([1]), device=cpu, dtype=torch.float32, is_shared=False),\n",
      "                metrics: TensorDict(\n",
      "                    fields={\n",
      "                        distance_from_origin: Tensor(shape=torch.Size([]), device=cpu, dtype=torch.float32, is_shared=False),\n",
      "                        forward_reward: Tensor(shape=torch.Size([]), device=cpu, dtype=torch.float32, is_shared=False),\n",
      "                        reward_alive: Tensor(shape=torch.Size([]), device=cpu, dtype=torch.float32, is_shared=False),\n",
      "                        reward_linvel: Tensor(shape=torch.Size([]), device=cpu, dtype=torch.float32, is_shared=False),\n",
      "                        reward_quadctrl: Tensor(shape=torch.Size([]), device=cpu, dtype=torch.float32, is_shared=False),\n",
      "                        x_position: Tensor(shape=torch.Size([]), device=cpu, dtype=torch.float32, is_shared=False),\n",
      "                        x_velocity: Tensor(shape=torch.Size([]), device=cpu, dtype=torch.float32, is_shared=False),\n",
      "                        y_position: Tensor(shape=torch.Size([]), device=cpu, dtype=torch.float32, is_shared=False),\n",
      "                        y_velocity: Tensor(shape=torch.Size([]), device=cpu, dtype=torch.float32, is_shared=False)},\n",
      "                    batch_size=torch.Size([]),\n",
      "                    device=cpu,\n",
      "                    is_shared=False),\n",
      "                obs: Tensor(shape=torch.Size([1260]), device=cpu, dtype=torch.float32, is_shared=False),\n",
      "                pipeline_state: TensorDict(\n",
      "                    fields={\n",
      "                        act: Tensor(shape=torch.Size([30]), device=cpu, dtype=torch.float32, is_shared=False),\n",
      "                        act_dot: Tensor(shape=torch.Size([30]), device=cpu, dtype=torch.float32, is_shared=False),\n",
      "                        actuator_length: Tensor(shape=torch.Size([30]), device=cpu, dtype=torch.float32, is_shared=False),\n",
      "                        actuator_moment: Tensor(shape=torch.Size([30, 73]), device=cpu, dtype=torch.float32, is_shared=False),\n",
      "                        actuator_velocity: Tensor(shape=torch.Size([30]), device=cpu, dtype=torch.float32, is_shared=False),\n",
      "                        cam_xmat: Tensor(shape=torch.Size([7, 3, 3]), device=cpu, dtype=torch.float32, is_shared=False),\n",
      "                        cam_xpos: Tensor(shape=torch.Size([7, 3]), device=cpu, dtype=torch.float32, is_shared=False),\n",
      "                        cdof: Tensor(shape=torch.Size([73, 6]), device=cpu, dtype=torch.float32, is_shared=False),\n",
      "                        cdof_dot: Tensor(shape=torch.Size([73, 6]), device=cpu, dtype=torch.float32, is_shared=False),\n",
      "                        cinert: Tensor(shape=torch.Size([66, 10]), device=cpu, dtype=torch.float32, is_shared=False),\n",
      "                        contact: TensorDict(\n",
      "                            fields={\n",
      "                                dist: Tensor(shape=torch.Size([34]), device=cpu, dtype=torch.float32, is_shared=False),\n",
      "                                elasticity: Tensor(shape=torch.Size([34]), device=cpu, dtype=torch.float32, is_shared=False),\n",
      "                                frame: Tensor(shape=torch.Size([34, 3, 3]), device=cpu, dtype=torch.float32, is_shared=False),\n",
      "                                friction: Tensor(shape=torch.Size([34, 5]), device=cpu, dtype=torch.float32, is_shared=False),\n",
      "                                geom1: Tensor(shape=torch.Size([34]), device=cpu, dtype=torch.int32, is_shared=False),\n",
      "                                geom2: Tensor(shape=torch.Size([34]), device=cpu, dtype=torch.int32, is_shared=False),\n",
      "                                includemargin: Tensor(shape=torch.Size([34]), device=cpu, dtype=torch.float32, is_shared=False),\n",
      "                                link_idx: TensorDict(\n",
      "                                    fields={\n",
      "                                        item0: Tensor(shape=torch.Size([34]), device=cpu, dtype=torch.int32, is_shared=False),\n",
      "                                        item1: Tensor(shape=torch.Size([34]), device=cpu, dtype=torch.int32, is_shared=False)},\n",
      "                                    batch_size=torch.Size([]),\n",
      "                                    device=cpu,\n",
      "                                    is_shared=False),\n",
      "                                pos: Tensor(shape=torch.Size([34, 3]), device=cpu, dtype=torch.float32, is_shared=False),\n",
      "                                solimp: Tensor(shape=torch.Size([34, 5]), device=cpu, dtype=torch.float32, is_shared=False),\n",
      "                                solref: Tensor(shape=torch.Size([34, 2]), device=cpu, dtype=torch.float32, is_shared=False),\n",
      "                                solreffriction: Tensor(shape=torch.Size([34, 2]), device=cpu, dtype=torch.float32, is_shared=False)},\n",
      "                            batch_size=torch.Size([]),\n",
      "                            device=cpu,\n",
      "                            is_shared=False),\n",
      "                        crb: Tensor(shape=torch.Size([66, 10]), device=cpu, dtype=torch.float32, is_shared=False),\n",
      "                        ctrl: Tensor(shape=torch.Size([30]), device=cpu, dtype=torch.float32, is_shared=False),\n",
      "                        cvel: Tensor(shape=torch.Size([66, 6]), device=cpu, dtype=torch.float32, is_shared=False),\n",
      "                        efc_D: Tensor(shape=torch.Size([203]), device=cpu, dtype=torch.float32, is_shared=False),\n",
      "                        efc_J: Tensor(shape=torch.Size([203, 73]), device=cpu, dtype=torch.float32, is_shared=False),\n",
      "                        efc_aref: Tensor(shape=torch.Size([203]), device=cpu, dtype=torch.float32, is_shared=False),\n",
      "                        efc_force: Tensor(shape=torch.Size([203]), device=cpu, dtype=torch.float32, is_shared=False),\n",
      "                        efc_frictionloss: Tensor(shape=torch.Size([203]), device=cpu, dtype=torch.float32, is_shared=False),\n",
      "                        eq_active: Tensor(shape=torch.Size([0]), device=cpu, dtype=torch.int32, is_shared=False),\n",
      "                        geom_xmat: Tensor(shape=torch.Size([101, 3, 3]), device=cpu, dtype=torch.float32, is_shared=False),\n",
      "                        geom_xpos: Tensor(shape=torch.Size([101, 3]), device=cpu, dtype=torch.float32, is_shared=False),\n",
      "                        q: Tensor(shape=torch.Size([74]), device=cpu, dtype=torch.float32, is_shared=False),\n",
      "                        qLD: Tensor(shape=torch.Size([73, 73]), device=cpu, dtype=torch.float32, is_shared=False),\n",
      "                        qLDiagInv: Tensor(shape=torch.Size([0]), device=cpu, dtype=torch.float32, is_shared=False),\n",
      "                        qM: Tensor(shape=torch.Size([73, 73]), device=cpu, dtype=torch.float32, is_shared=False),\n",
      "                        qacc: Tensor(shape=torch.Size([73]), device=cpu, dtype=torch.float32, is_shared=False),\n",
      "                        qacc_smooth: Tensor(shape=torch.Size([73]), device=cpu, dtype=torch.float32, is_shared=False),\n",
      "                        qacc_warmstart: Tensor(shape=torch.Size([73]), device=cpu, dtype=torch.float32, is_shared=False),\n",
      "                        qd: Tensor(shape=torch.Size([73]), device=cpu, dtype=torch.float32, is_shared=False),\n",
      "                        qfrc_actuator: Tensor(shape=torch.Size([73]), device=cpu, dtype=torch.float32, is_shared=False),\n",
      "                        qfrc_applied: Tensor(shape=torch.Size([73]), device=cpu, dtype=torch.float32, is_shared=False),\n",
      "                        qfrc_bias: Tensor(shape=torch.Size([73]), device=cpu, dtype=torch.float32, is_shared=False),\n",
      "                        qfrc_constraint: Tensor(shape=torch.Size([73]), device=cpu, dtype=torch.float32, is_shared=False),\n",
      "                        qfrc_inverse: Tensor(shape=torch.Size([73]), device=cpu, dtype=torch.float32, is_shared=False),\n",
      "                        qfrc_passive: Tensor(shape=torch.Size([73]), device=cpu, dtype=torch.float32, is_shared=False),\n",
      "                        qfrc_smooth: Tensor(shape=torch.Size([73]), device=cpu, dtype=torch.float32, is_shared=False),\n",
      "                        qpos: Tensor(shape=torch.Size([74]), device=cpu, dtype=torch.float32, is_shared=False),\n",
      "                        qvel: Tensor(shape=torch.Size([73]), device=cpu, dtype=torch.float32, is_shared=False),\n",
      "                        site_xmat: Tensor(shape=torch.Size([21, 3, 3]), device=cpu, dtype=torch.float32, is_shared=False),\n",
      "                        site_xpos: Tensor(shape=torch.Size([21, 3]), device=cpu, dtype=torch.float32, is_shared=False),\n",
      "                        solver_niter: Tensor(shape=torch.Size([]), device=cpu, dtype=torch.int32, is_shared=False),\n",
      "                        subtree_com: Tensor(shape=torch.Size([66, 3]), device=cpu, dtype=torch.float32, is_shared=False),\n",
      "                        time: Tensor(shape=torch.Size([]), device=cpu, dtype=torch.float32, is_shared=False),\n",
      "                        x: TensorDict(\n",
      "                            fields={\n",
      "                                pos: Tensor(shape=torch.Size([65, 3]), device=cpu, dtype=torch.float32, is_shared=False),\n",
      "                                rot: Tensor(shape=torch.Size([65, 4]), device=cpu, dtype=torch.float32, is_shared=False)},\n",
      "                            batch_size=torch.Size([]),\n",
      "                            device=cpu,\n",
      "                            is_shared=False),\n",
      "                        xanchor: Tensor(shape=torch.Size([68, 3]), device=cpu, dtype=torch.float32, is_shared=False),\n",
      "                        xaxis: Tensor(shape=torch.Size([68, 3]), device=cpu, dtype=torch.float32, is_shared=False),\n",
      "                        xd: TensorDict(\n",
      "                            fields={\n",
      "                                ang: Tensor(shape=torch.Size([65, 3]), device=cpu, dtype=torch.float32, is_shared=False),\n",
      "                                vel: Tensor(shape=torch.Size([65, 3]), device=cpu, dtype=torch.float32, is_shared=False)},\n",
      "                            batch_size=torch.Size([]),\n",
      "                            device=cpu,\n",
      "                            is_shared=False),\n",
      "                        xfrc_applied: Tensor(shape=torch.Size([66, 6]), device=cpu, dtype=torch.float32, is_shared=False),\n",
      "                        ximat: Tensor(shape=torch.Size([66, 3, 3]), device=cpu, dtype=torch.float32, is_shared=False),\n",
      "                        xipos: Tensor(shape=torch.Size([66, 3]), device=cpu, dtype=torch.float32, is_shared=False),\n",
      "                        xmat: Tensor(shape=torch.Size([66, 3, 3]), device=cpu, dtype=torch.float32, is_shared=False),\n",
      "                        xpos: Tensor(shape=torch.Size([66, 3]), device=cpu, dtype=torch.float32, is_shared=False),\n",
      "                        xquat: Tensor(shape=torch.Size([66, 4]), device=cpu, dtype=torch.float32, is_shared=False)},\n",
      "                    batch_size=torch.Size([]),\n",
      "                    device=cpu,\n",
      "                    is_shared=False),\n",
      "                reward: Tensor(shape=torch.Size([1]), device=cpu, dtype=torch.float32, is_shared=False)},\n",
      "            batch_size=torch.Size([]),\n",
      "            device=cpu,\n",
      "            is_shared=False),\n",
      "        terminated: Tensor(shape=torch.Size([1]), device=cpu, dtype=torch.bool, is_shared=False)},\n",
      "    batch_size=torch.Size([]),\n",
      "    device=cpu,\n",
      "    is_shared=False)\n"
     ]
    }
   ],
   "source": [
    "env.set_seed(0)\n",
    "td = env.reset()\n",
    "print(td)"
   ]
  },
  {
   "cell_type": "code",
   "execution_count": 11,
   "metadata": {},
   "outputs": [
    {
     "name": "stdout",
     "output_type": "stream",
     "text": [
      "TensorDict(\n",
      "    fields={\n",
      "        action: Tensor(shape=torch.Size([30]), device=cpu, dtype=torch.float32, is_shared=False),\n",
      "        done: Tensor(shape=torch.Size([1]), device=cpu, dtype=torch.bool, is_shared=False),\n",
      "        next: TensorDict(\n",
      "            fields={\n",
      "                done: Tensor(shape=torch.Size([1]), device=cpu, dtype=torch.bool, is_shared=False),\n",
      "                observation: Tensor(shape=torch.Size([1260]), device=cpu, dtype=torch.float32, is_shared=False),\n",
      "                reward: Tensor(shape=torch.Size([1]), device=cpu, dtype=torch.float32, is_shared=False),\n",
      "                state: TensorDict(\n",
      "                    fields={\n",
      "                        done: Tensor(shape=torch.Size([1]), device=cpu, dtype=torch.float32, is_shared=False),\n",
      "                        metrics: TensorDict(\n",
      "                            fields={\n",
      "                                distance_from_origin: Tensor(shape=torch.Size([]), device=cpu, dtype=torch.float32, is_shared=False),\n",
      "                                forward_reward: Tensor(shape=torch.Size([]), device=cpu, dtype=torch.float32, is_shared=False),\n",
      "                                reward_alive: Tensor(shape=torch.Size([]), device=cpu, dtype=torch.float32, is_shared=False),\n",
      "                                reward_linvel: Tensor(shape=torch.Size([]), device=cpu, dtype=torch.float32, is_shared=False),\n",
      "                                reward_quadctrl: Tensor(shape=torch.Size([]), device=cpu, dtype=torch.float32, is_shared=False),\n",
      "                                x_position: Tensor(shape=torch.Size([]), device=cpu, dtype=torch.float32, is_shared=False),\n",
      "                                x_velocity: Tensor(shape=torch.Size([]), device=cpu, dtype=torch.float32, is_shared=False),\n",
      "                                y_position: Tensor(shape=torch.Size([]), device=cpu, dtype=torch.float32, is_shared=False),\n",
      "                                y_velocity: Tensor(shape=torch.Size([]), device=cpu, dtype=torch.float32, is_shared=False)},\n",
      "                            batch_size=torch.Size([]),\n",
      "                            device=cpu,\n",
      "                            is_shared=False),\n",
      "                        obs: Tensor(shape=torch.Size([1260]), device=cpu, dtype=torch.float32, is_shared=False),\n",
      "                        pipeline_state: TensorDict(\n",
      "                            fields={\n",
      "                                act: Tensor(shape=torch.Size([30]), device=cpu, dtype=torch.float32, is_shared=False),\n",
      "                                act_dot: Tensor(shape=torch.Size([30]), device=cpu, dtype=torch.float32, is_shared=False),\n",
      "                                actuator_length: Tensor(shape=torch.Size([30]), device=cpu, dtype=torch.float32, is_shared=False),\n",
      "                                actuator_moment: Tensor(shape=torch.Size([30, 73]), device=cpu, dtype=torch.float32, is_shared=False),\n",
      "                                actuator_velocity: Tensor(shape=torch.Size([30]), device=cpu, dtype=torch.float32, is_shared=False),\n",
      "                                cam_xmat: Tensor(shape=torch.Size([7, 3, 3]), device=cpu, dtype=torch.float32, is_shared=False),\n",
      "                                cam_xpos: Tensor(shape=torch.Size([7, 3]), device=cpu, dtype=torch.float32, is_shared=False),\n",
      "                                cdof: Tensor(shape=torch.Size([73, 6]), device=cpu, dtype=torch.float32, is_shared=False),\n",
      "                                cdof_dot: Tensor(shape=torch.Size([73, 6]), device=cpu, dtype=torch.float32, is_shared=False),\n",
      "                                cinert: Tensor(shape=torch.Size([66, 10]), device=cpu, dtype=torch.float32, is_shared=False),\n",
      "                                contact: TensorDict(\n",
      "                                    fields={\n",
      "                                        dist: Tensor(shape=torch.Size([34]), device=cpu, dtype=torch.float32, is_shared=False),\n",
      "                                        elasticity: Tensor(shape=torch.Size([34]), device=cpu, dtype=torch.float32, is_shared=False),\n",
      "                                        frame: Tensor(shape=torch.Size([34, 3, 3]), device=cpu, dtype=torch.float32, is_shared=False),\n",
      "                                        friction: Tensor(shape=torch.Size([34, 5]), device=cpu, dtype=torch.float32, is_shared=False),\n",
      "                                        geom1: Tensor(shape=torch.Size([34]), device=cpu, dtype=torch.int32, is_shared=False),\n",
      "                                        geom2: Tensor(shape=torch.Size([34]), device=cpu, dtype=torch.int32, is_shared=False),\n",
      "                                        includemargin: Tensor(shape=torch.Size([34]), device=cpu, dtype=torch.float32, is_shared=False),\n",
      "                                        link_idx: TensorDict(\n",
      "                                            fields={\n",
      "                                                item0: Tensor(shape=torch.Size([34]), device=cpu, dtype=torch.int32, is_shared=False),\n",
      "                                                item1: Tensor(shape=torch.Size([34]), device=cpu, dtype=torch.int32, is_shared=False)},\n",
      "                                            batch_size=torch.Size([]),\n",
      "                                            device=cpu,\n",
      "                                            is_shared=False),\n",
      "                                        pos: Tensor(shape=torch.Size([34, 3]), device=cpu, dtype=torch.float32, is_shared=False),\n",
      "                                        solimp: Tensor(shape=torch.Size([34, 5]), device=cpu, dtype=torch.float32, is_shared=False),\n",
      "                                        solref: Tensor(shape=torch.Size([34, 2]), device=cpu, dtype=torch.float32, is_shared=False),\n",
      "                                        solreffriction: Tensor(shape=torch.Size([34, 2]), device=cpu, dtype=torch.float32, is_shared=False)},\n",
      "                                    batch_size=torch.Size([]),\n",
      "                                    device=cpu,\n",
      "                                    is_shared=False),\n",
      "                                crb: Tensor(shape=torch.Size([66, 10]), device=cpu, dtype=torch.float32, is_shared=False),\n",
      "                                ctrl: Tensor(shape=torch.Size([30]), device=cpu, dtype=torch.float32, is_shared=False),\n",
      "                                cvel: Tensor(shape=torch.Size([66, 6]), device=cpu, dtype=torch.float32, is_shared=False),\n",
      "                                efc_D: Tensor(shape=torch.Size([203]), device=cpu, dtype=torch.float32, is_shared=False),\n",
      "                                efc_J: Tensor(shape=torch.Size([203, 73]), device=cpu, dtype=torch.float32, is_shared=False),\n",
      "                                efc_aref: Tensor(shape=torch.Size([203]), device=cpu, dtype=torch.float32, is_shared=False),\n",
      "                                efc_force: Tensor(shape=torch.Size([203]), device=cpu, dtype=torch.float32, is_shared=False),\n",
      "                                efc_frictionloss: Tensor(shape=torch.Size([203]), device=cpu, dtype=torch.float32, is_shared=False),\n",
      "                                eq_active: Tensor(shape=torch.Size([0]), device=cpu, dtype=torch.int32, is_shared=False),\n",
      "                                geom_xmat: Tensor(shape=torch.Size([101, 3, 3]), device=cpu, dtype=torch.float32, is_shared=False),\n",
      "                                geom_xpos: Tensor(shape=torch.Size([101, 3]), device=cpu, dtype=torch.float32, is_shared=False),\n",
      "                                q: Tensor(shape=torch.Size([74]), device=cpu, dtype=torch.float32, is_shared=False),\n",
      "                                qLD: Tensor(shape=torch.Size([73, 73]), device=cpu, dtype=torch.float32, is_shared=False),\n",
      "                                qLDiagInv: Tensor(shape=torch.Size([0]), device=cpu, dtype=torch.float32, is_shared=False),\n",
      "                                qM: Tensor(shape=torch.Size([73, 73]), device=cpu, dtype=torch.float32, is_shared=False),\n",
      "                                qacc: Tensor(shape=torch.Size([73]), device=cpu, dtype=torch.float32, is_shared=False),\n",
      "                                qacc_smooth: Tensor(shape=torch.Size([73]), device=cpu, dtype=torch.float32, is_shared=False),\n",
      "                                qacc_warmstart: Tensor(shape=torch.Size([73]), device=cpu, dtype=torch.float32, is_shared=False),\n",
      "                                qd: Tensor(shape=torch.Size([73]), device=cpu, dtype=torch.float32, is_shared=False),\n",
      "                                qfrc_actuator: Tensor(shape=torch.Size([73]), device=cpu, dtype=torch.float32, is_shared=False),\n",
      "                                qfrc_applied: Tensor(shape=torch.Size([73]), device=cpu, dtype=torch.float32, is_shared=False),\n",
      "                                qfrc_bias: Tensor(shape=torch.Size([73]), device=cpu, dtype=torch.float32, is_shared=False),\n",
      "                                qfrc_constraint: Tensor(shape=torch.Size([73]), device=cpu, dtype=torch.float32, is_shared=False),\n",
      "                                qfrc_inverse: Tensor(shape=torch.Size([73]), device=cpu, dtype=torch.float32, is_shared=False),\n",
      "                                qfrc_passive: Tensor(shape=torch.Size([73]), device=cpu, dtype=torch.float32, is_shared=False),\n",
      "                                qfrc_smooth: Tensor(shape=torch.Size([73]), device=cpu, dtype=torch.float32, is_shared=False),\n",
      "                                qpos: Tensor(shape=torch.Size([74]), device=cpu, dtype=torch.float32, is_shared=False),\n",
      "                                qvel: Tensor(shape=torch.Size([73]), device=cpu, dtype=torch.float32, is_shared=False),\n",
      "                                site_xmat: Tensor(shape=torch.Size([21, 3, 3]), device=cpu, dtype=torch.float32, is_shared=False),\n",
      "                                site_xpos: Tensor(shape=torch.Size([21, 3]), device=cpu, dtype=torch.float32, is_shared=False),\n",
      "                                solver_niter: Tensor(shape=torch.Size([]), device=cpu, dtype=torch.int32, is_shared=False),\n",
      "                                subtree_com: Tensor(shape=torch.Size([66, 3]), device=cpu, dtype=torch.float32, is_shared=False),\n",
      "                                time: Tensor(shape=torch.Size([]), device=cpu, dtype=torch.float32, is_shared=False),\n",
      "                                x: TensorDict(\n",
      "                                    fields={\n",
      "                                        pos: Tensor(shape=torch.Size([65, 3]), device=cpu, dtype=torch.float32, is_shared=False),\n",
      "                                        rot: Tensor(shape=torch.Size([65, 4]), device=cpu, dtype=torch.float32, is_shared=False)},\n",
      "                                    batch_size=torch.Size([]),\n",
      "                                    device=cpu,\n",
      "                                    is_shared=False),\n",
      "                                xanchor: Tensor(shape=torch.Size([68, 3]), device=cpu, dtype=torch.float32, is_shared=False),\n",
      "                                xaxis: Tensor(shape=torch.Size([68, 3]), device=cpu, dtype=torch.float32, is_shared=False),\n",
      "                                xd: TensorDict(\n",
      "                                    fields={\n",
      "                                        ang: Tensor(shape=torch.Size([65, 3]), device=cpu, dtype=torch.float32, is_shared=False),\n",
      "                                        vel: Tensor(shape=torch.Size([65, 3]), device=cpu, dtype=torch.float32, is_shared=False)},\n",
      "                                    batch_size=torch.Size([]),\n",
      "                                    device=cpu,\n",
      "                                    is_shared=False),\n",
      "                                xfrc_applied: Tensor(shape=torch.Size([66, 6]), device=cpu, dtype=torch.float32, is_shared=False),\n",
      "                                ximat: Tensor(shape=torch.Size([66, 3, 3]), device=cpu, dtype=torch.float32, is_shared=False),\n",
      "                                xipos: Tensor(shape=torch.Size([66, 3]), device=cpu, dtype=torch.float32, is_shared=False),\n",
      "                                xmat: Tensor(shape=torch.Size([66, 3, 3]), device=cpu, dtype=torch.float32, is_shared=False),\n",
      "                                xpos: Tensor(shape=torch.Size([66, 3]), device=cpu, dtype=torch.float32, is_shared=False),\n",
      "                                xquat: Tensor(shape=torch.Size([66, 4]), device=cpu, dtype=torch.float32, is_shared=False)},\n",
      "                            batch_size=torch.Size([]),\n",
      "                            device=cpu,\n",
      "                            is_shared=False),\n",
      "                        reward: Tensor(shape=torch.Size([1]), device=cpu, dtype=torch.float32, is_shared=False)},\n",
      "                    batch_size=torch.Size([]),\n",
      "                    device=cpu,\n",
      "                    is_shared=False),\n",
      "                terminated: Tensor(shape=torch.Size([1]), device=cpu, dtype=torch.bool, is_shared=False)},\n",
      "            batch_size=torch.Size([]),\n",
      "            device=cpu,\n",
      "            is_shared=False),\n",
      "        observation: Tensor(shape=torch.Size([1260]), device=cpu, dtype=torch.float32, is_shared=False),\n",
      "        state: TensorDict(\n",
      "            fields={\n",
      "                done: Tensor(shape=torch.Size([1]), device=cpu, dtype=torch.float32, is_shared=False),\n",
      "                metrics: TensorDict(\n",
      "                    fields={\n",
      "                        distance_from_origin: Tensor(shape=torch.Size([]), device=cpu, dtype=torch.float32, is_shared=False),\n",
      "                        forward_reward: Tensor(shape=torch.Size([]), device=cpu, dtype=torch.float32, is_shared=False),\n",
      "                        reward_alive: Tensor(shape=torch.Size([]), device=cpu, dtype=torch.float32, is_shared=False),\n",
      "                        reward_linvel: Tensor(shape=torch.Size([]), device=cpu, dtype=torch.float32, is_shared=False),\n",
      "                        reward_quadctrl: Tensor(shape=torch.Size([]), device=cpu, dtype=torch.float32, is_shared=False),\n",
      "                        x_position: Tensor(shape=torch.Size([]), device=cpu, dtype=torch.float32, is_shared=False),\n",
      "                        x_velocity: Tensor(shape=torch.Size([]), device=cpu, dtype=torch.float32, is_shared=False),\n",
      "                        y_position: Tensor(shape=torch.Size([]), device=cpu, dtype=torch.float32, is_shared=False),\n",
      "                        y_velocity: Tensor(shape=torch.Size([]), device=cpu, dtype=torch.float32, is_shared=False)},\n",
      "                    batch_size=torch.Size([]),\n",
      "                    device=cpu,\n",
      "                    is_shared=False),\n",
      "                obs: Tensor(shape=torch.Size([1260]), device=cpu, dtype=torch.float32, is_shared=False),\n",
      "                pipeline_state: TensorDict(\n",
      "                    fields={\n",
      "                        act: Tensor(shape=torch.Size([30]), device=cpu, dtype=torch.float32, is_shared=False),\n",
      "                        act_dot: Tensor(shape=torch.Size([30]), device=cpu, dtype=torch.float32, is_shared=False),\n",
      "                        actuator_length: Tensor(shape=torch.Size([30]), device=cpu, dtype=torch.float32, is_shared=False),\n",
      "                        actuator_moment: Tensor(shape=torch.Size([30, 73]), device=cpu, dtype=torch.float32, is_shared=False),\n",
      "                        actuator_velocity: Tensor(shape=torch.Size([30]), device=cpu, dtype=torch.float32, is_shared=False),\n",
      "                        cam_xmat: Tensor(shape=torch.Size([7, 3, 3]), device=cpu, dtype=torch.float32, is_shared=False),\n",
      "                        cam_xpos: Tensor(shape=torch.Size([7, 3]), device=cpu, dtype=torch.float32, is_shared=False),\n",
      "                        cdof: Tensor(shape=torch.Size([73, 6]), device=cpu, dtype=torch.float32, is_shared=False),\n",
      "                        cdof_dot: Tensor(shape=torch.Size([73, 6]), device=cpu, dtype=torch.float32, is_shared=False),\n",
      "                        cinert: Tensor(shape=torch.Size([66, 10]), device=cpu, dtype=torch.float32, is_shared=False),\n",
      "                        contact: TensorDict(\n",
      "                            fields={\n",
      "                                dist: Tensor(shape=torch.Size([34]), device=cpu, dtype=torch.float32, is_shared=False),\n",
      "                                elasticity: Tensor(shape=torch.Size([34]), device=cpu, dtype=torch.float32, is_shared=False),\n",
      "                                frame: Tensor(shape=torch.Size([34, 3, 3]), device=cpu, dtype=torch.float32, is_shared=False),\n",
      "                                friction: Tensor(shape=torch.Size([34, 5]), device=cpu, dtype=torch.float32, is_shared=False),\n",
      "                                geom1: Tensor(shape=torch.Size([34]), device=cpu, dtype=torch.int32, is_shared=False),\n",
      "                                geom2: Tensor(shape=torch.Size([34]), device=cpu, dtype=torch.int32, is_shared=False),\n",
      "                                includemargin: Tensor(shape=torch.Size([34]), device=cpu, dtype=torch.float32, is_shared=False),\n",
      "                                link_idx: TensorDict(\n",
      "                                    fields={\n",
      "                                        item0: Tensor(shape=torch.Size([34]), device=cpu, dtype=torch.int32, is_shared=False),\n",
      "                                        item1: Tensor(shape=torch.Size([34]), device=cpu, dtype=torch.int32, is_shared=False)},\n",
      "                                    batch_size=torch.Size([]),\n",
      "                                    device=cpu,\n",
      "                                    is_shared=False),\n",
      "                                pos: Tensor(shape=torch.Size([34, 3]), device=cpu, dtype=torch.float32, is_shared=False),\n",
      "                                solimp: Tensor(shape=torch.Size([34, 5]), device=cpu, dtype=torch.float32, is_shared=False),\n",
      "                                solref: Tensor(shape=torch.Size([34, 2]), device=cpu, dtype=torch.float32, is_shared=False),\n",
      "                                solreffriction: Tensor(shape=torch.Size([34, 2]), device=cpu, dtype=torch.float32, is_shared=False)},\n",
      "                            batch_size=torch.Size([]),\n",
      "                            device=cpu,\n",
      "                            is_shared=False),\n",
      "                        crb: Tensor(shape=torch.Size([66, 10]), device=cpu, dtype=torch.float32, is_shared=False),\n",
      "                        ctrl: Tensor(shape=torch.Size([30]), device=cpu, dtype=torch.float32, is_shared=False),\n",
      "                        cvel: Tensor(shape=torch.Size([66, 6]), device=cpu, dtype=torch.float32, is_shared=False),\n",
      "                        efc_D: Tensor(shape=torch.Size([203]), device=cpu, dtype=torch.float32, is_shared=False),\n",
      "                        efc_J: Tensor(shape=torch.Size([203, 73]), device=cpu, dtype=torch.float32, is_shared=False),\n",
      "                        efc_aref: Tensor(shape=torch.Size([203]), device=cpu, dtype=torch.float32, is_shared=False),\n",
      "                        efc_force: Tensor(shape=torch.Size([203]), device=cpu, dtype=torch.float32, is_shared=False),\n",
      "                        efc_frictionloss: Tensor(shape=torch.Size([203]), device=cpu, dtype=torch.float32, is_shared=False),\n",
      "                        eq_active: Tensor(shape=torch.Size([0]), device=cpu, dtype=torch.int32, is_shared=False),\n",
      "                        geom_xmat: Tensor(shape=torch.Size([101, 3, 3]), device=cpu, dtype=torch.float32, is_shared=False),\n",
      "                        geom_xpos: Tensor(shape=torch.Size([101, 3]), device=cpu, dtype=torch.float32, is_shared=False),\n",
      "                        q: Tensor(shape=torch.Size([74]), device=cpu, dtype=torch.float32, is_shared=False),\n",
      "                        qLD: Tensor(shape=torch.Size([73, 73]), device=cpu, dtype=torch.float32, is_shared=False),\n",
      "                        qLDiagInv: Tensor(shape=torch.Size([0]), device=cpu, dtype=torch.float32, is_shared=False),\n",
      "                        qM: Tensor(shape=torch.Size([73, 73]), device=cpu, dtype=torch.float32, is_shared=False),\n",
      "                        qacc: Tensor(shape=torch.Size([73]), device=cpu, dtype=torch.float32, is_shared=False),\n",
      "                        qacc_smooth: Tensor(shape=torch.Size([73]), device=cpu, dtype=torch.float32, is_shared=False),\n",
      "                        qacc_warmstart: Tensor(shape=torch.Size([73]), device=cpu, dtype=torch.float32, is_shared=False),\n",
      "                        qd: Tensor(shape=torch.Size([73]), device=cpu, dtype=torch.float32, is_shared=False),\n",
      "                        qfrc_actuator: Tensor(shape=torch.Size([73]), device=cpu, dtype=torch.float32, is_shared=False),\n",
      "                        qfrc_applied: Tensor(shape=torch.Size([73]), device=cpu, dtype=torch.float32, is_shared=False),\n",
      "                        qfrc_bias: Tensor(shape=torch.Size([73]), device=cpu, dtype=torch.float32, is_shared=False),\n",
      "                        qfrc_constraint: Tensor(shape=torch.Size([73]), device=cpu, dtype=torch.float32, is_shared=False),\n",
      "                        qfrc_inverse: Tensor(shape=torch.Size([73]), device=cpu, dtype=torch.float32, is_shared=False),\n",
      "                        qfrc_passive: Tensor(shape=torch.Size([73]), device=cpu, dtype=torch.float32, is_shared=False),\n",
      "                        qfrc_smooth: Tensor(shape=torch.Size([73]), device=cpu, dtype=torch.float32, is_shared=False),\n",
      "                        qpos: Tensor(shape=torch.Size([74]), device=cpu, dtype=torch.float32, is_shared=False),\n",
      "                        qvel: Tensor(shape=torch.Size([73]), device=cpu, dtype=torch.float32, is_shared=False),\n",
      "                        site_xmat: Tensor(shape=torch.Size([21, 3, 3]), device=cpu, dtype=torch.float32, is_shared=False),\n",
      "                        site_xpos: Tensor(shape=torch.Size([21, 3]), device=cpu, dtype=torch.float32, is_shared=False),\n",
      "                        solver_niter: Tensor(shape=torch.Size([]), device=cpu, dtype=torch.int32, is_shared=False),\n",
      "                        subtree_com: Tensor(shape=torch.Size([66, 3]), device=cpu, dtype=torch.float32, is_shared=False),\n",
      "                        time: Tensor(shape=torch.Size([]), device=cpu, dtype=torch.float32, is_shared=False),\n",
      "                        x: TensorDict(\n",
      "                            fields={\n",
      "                                pos: Tensor(shape=torch.Size([65, 3]), device=cpu, dtype=torch.float32, is_shared=False),\n",
      "                                rot: Tensor(shape=torch.Size([65, 4]), device=cpu, dtype=torch.float32, is_shared=False)},\n",
      "                            batch_size=torch.Size([]),\n",
      "                            device=cpu,\n",
      "                            is_shared=False),\n",
      "                        xanchor: Tensor(shape=torch.Size([68, 3]), device=cpu, dtype=torch.float32, is_shared=False),\n",
      "                        xaxis: Tensor(shape=torch.Size([68, 3]), device=cpu, dtype=torch.float32, is_shared=False),\n",
      "                        xd: TensorDict(\n",
      "                            fields={\n",
      "                                ang: Tensor(shape=torch.Size([65, 3]), device=cpu, dtype=torch.float32, is_shared=False),\n",
      "                                vel: Tensor(shape=torch.Size([65, 3]), device=cpu, dtype=torch.float32, is_shared=False)},\n",
      "                            batch_size=torch.Size([]),\n",
      "                            device=cpu,\n",
      "                            is_shared=False),\n",
      "                        xfrc_applied: Tensor(shape=torch.Size([66, 6]), device=cpu, dtype=torch.float32, is_shared=False),\n",
      "                        ximat: Tensor(shape=torch.Size([66, 3, 3]), device=cpu, dtype=torch.float32, is_shared=False),\n",
      "                        xipos: Tensor(shape=torch.Size([66, 3]), device=cpu, dtype=torch.float32, is_shared=False),\n",
      "                        xmat: Tensor(shape=torch.Size([66, 3, 3]), device=cpu, dtype=torch.float32, is_shared=False),\n",
      "                        xpos: Tensor(shape=torch.Size([66, 3]), device=cpu, dtype=torch.float32, is_shared=False),\n",
      "                        xquat: Tensor(shape=torch.Size([66, 4]), device=cpu, dtype=torch.float32, is_shared=False)},\n",
      "                    batch_size=torch.Size([]),\n",
      "                    device=cpu,\n",
      "                    is_shared=False),\n",
      "                reward: Tensor(shape=torch.Size([1]), device=cpu, dtype=torch.float32, is_shared=False)},\n",
      "            batch_size=torch.Size([]),\n",
      "            device=cpu,\n",
      "            is_shared=False),\n",
      "        terminated: Tensor(shape=torch.Size([1]), device=cpu, dtype=torch.bool, is_shared=False)},\n",
      "    batch_size=torch.Size([]),\n",
      "    device=cpu,\n",
      "    is_shared=False)\n"
     ]
    }
   ],
   "source": [
    "td[\"action\"] = env.action_spec.rand() # random move\n",
    "td = env.step(td) # step the env\n",
    "print(td)"
   ]
  },
  {
   "cell_type": "code",
   "execution_count": 12,
   "metadata": {},
   "outputs": [],
   "source": [
    "td = env.rand_step(td)"
   ]
  },
  {
   "cell_type": "code",
   "execution_count": 8,
   "metadata": {},
   "outputs": [
    {
     "name": "stdout",
     "output_type": "stream",
     "text": [
      "30.5 ms ± 476 µs per loop (mean ± std. dev. of 7 runs, 10 loops each)\n"
     ]
    }
   ],
   "source": [
    "%timeit env.rand_step(td)"
   ]
  },
  {
   "cell_type": "markdown",
   "metadata": {},
   "source": [
    "## Checking observation connection"
   ]
  },
  {
   "cell_type": "code",
   "execution_count": 12,
   "metadata": {},
   "outputs": [
    {
     "data": {
      "text/plain": [
       "1260"
      ]
     },
     "execution_count": 12,
     "metadata": {},
     "output_type": "execute_result"
    }
   ],
   "source": [
    "torch.ones(env.observation_spec['observation'].shape).shape[-1]"
   ]
  },
  {
   "cell_type": "markdown",
   "metadata": {},
   "source": [
    "## Checking parralel environment"
   ]
  },
  {
   "cell_type": "code",
   "execution_count": 13,
   "metadata": {},
   "outputs": [],
   "source": [
    "from torchrl.envs import (BraxWrapper,\n",
    "                          ParallelEnv,\n",
    "                          EnvCreator,\n",
    "                          TransformedEnv,\n",
    "                          VecNorm,\n",
    "                          RewardSum)\n",
    "import brax.envs as brax_envs\n",
    "\n",
    "def make_env(env_name=\"rodent\", frame_skip=4, is_test=False):\n",
    "    brax_envs.register_environment(env_name, Rodent)\n",
    "\n",
    "    env = BraxWrapper(brax_envs.get_environment(env_name), \n",
    "                      iterations=6,\n",
    "                      ls_iterations=3)\n",
    "    env.set_seed(0)\n",
    "    env = TransformedEnv(env)\n",
    "    return env\n",
    "\n",
    "def make_parallel_env(env_name, num_envs, device, is_test=False):\n",
    "    env = ParallelEnv(\n",
    "        num_envs,\n",
    "        EnvCreator(lambda: make_env(env_name)),\n",
    "        serial_for_single=True,\n",
    "        device=device,\n",
    "    )\n",
    "    env = TransformedEnv(env)\n",
    "    env.append_transform(VecNorm(in_keys=[\"observation\"]))\n",
    "    env.append_transform(RewardSum())\n",
    "    return env\n",
    "\n",
    "\n",
    "proof_environment = make_parallel_env('rodent', 1, device=\"cpu\")"
   ]
  },
  {
   "cell_type": "code",
   "execution_count": 16,
   "metadata": {},
   "outputs": [
    {
     "data": {
      "text/plain": [
       "torch.Size([1, 1260])"
      ]
     },
     "execution_count": 16,
     "metadata": {},
     "output_type": "execute_result"
    }
   ],
   "source": [
    "proof_environment.observation_spec[\"observation\"].shape"
   ]
  },
  {
   "cell_type": "code",
   "execution_count": 19,
   "metadata": {},
   "outputs": [
    {
     "data": {
      "text/plain": [
       "tensor([[1., 1., 1.,  ..., 1., 1., 1.]])"
      ]
     },
     "execution_count": 19,
     "metadata": {},
     "output_type": "execute_result"
    }
   ],
   "source": [
    "torch.ones(proof_environment.observation_spec[\"observation\"].shape)"
   ]
  },
  {
   "cell_type": "code",
   "execution_count": 20,
   "metadata": {},
   "outputs": [
    {
     "name": "stderr",
     "output_type": "stream",
     "text": [
      "/Users/kevinb/Desktop/salk/rodent/VNL-TorchRL/.venv/lib/python3.11/site-packages/torch/nn/modules/lazy.py:181: UserWarning: Lazy modules are a new feature under heavy development so changes to the API or functionality can happen at any moment.\n",
      "  warnings.warn('Lazy modules are a new feature under heavy development '\n"
     ]
    }
   ],
   "source": [
    "from torchrl.modules import (\n",
    "    ActorValueOperator,\n",
    "    ConvNet,\n",
    "    MLP,\n",
    "    OneHotCategorical,\n",
    "    ProbabilisticActor,\n",
    "    TanhNormal,\n",
    "    ValueOperator,\n",
    ")\n",
    "\n",
    "common_cnn = ConvNet(\n",
    "        activation_class=torch.nn.ReLU,\n",
    "        num_cells=[32, 64, 64],\n",
    "        kernel_sizes=[8, 4, 3],\n",
    "        strides=[4, 2, 1],\n",
    "    )"
   ]
  },
  {
   "cell_type": "code",
   "execution_count": 22,
   "metadata": {},
   "outputs": [],
   "source": [
    "# common_cnn(torch.ones(proof_environment.observation_spec[\"observation\"].shape))"
   ]
  },
  {
   "cell_type": "code",
   "execution_count": 24,
   "metadata": {},
   "outputs": [],
   "source": [
    "input_shape = proof_environment.observation_spec[\"observation\"].shape\n",
    "\n",
    "common_mlp = MLP(\n",
    "        in_features=input_shape[-1], #common_cnn_output.shape[-1],\n",
    "        activation_class=torch.nn.ReLU,\n",
    "        activate_last_layer=True,\n",
    "        out_features=512,\n",
    "        num_cells=[],\n",
    "    )\n",
    "\n",
    "common_mlp_output = common_mlp(torch.ones(input_shape))#(common_cnn_output)"
   ]
  },
  {
   "cell_type": "markdown",
   "metadata": {},
   "source": [
    "## Compare to brax"
   ]
  },
  {
   "cell_type": "code",
   "execution_count": 9,
   "metadata": {},
   "outputs": [],
   "source": [
    "b_env = Rodent()"
   ]
  },
  {
   "cell_type": "code",
   "execution_count": 10,
   "metadata": {},
   "outputs": [],
   "source": [
    "import jax\n",
    "import brax\n",
    "key = jax.random.key(0)\n",
    "state = b_env.reset(key)"
   ]
  },
  {
   "cell_type": "code",
   "execution_count": 11,
   "metadata": {},
   "outputs": [],
   "source": [
    "jit_step = jax.jit(b_env.step)"
   ]
  },
  {
   "cell_type": "code",
   "execution_count": 12,
   "metadata": {},
   "outputs": [],
   "source": [
    "action = jax.random.uniform(key, shape=state.pipeline_state.ctrl.shape)\n",
    "state = jit_step(state, action)"
   ]
  },
  {
   "cell_type": "code",
   "execution_count": 13,
   "metadata": {},
   "outputs": [
    {
     "name": "stdout",
     "output_type": "stream",
     "text": [
      "2.68 ms ± 434 µs per loop (mean ± std. dev. of 7 runs, 1 loop each)\n"
     ]
    }
   ],
   "source": [
    "action = jax.random.uniform(key, shape=state.pipeline_state.ctrl.shape)\n",
    "%timeit jit_step(state, action)"
   ]
  },
  {
   "cell_type": "markdown",
   "metadata": {},
   "source": [
    "# Testing code"
   ]
  },
  {
   "cell_type": "code",
   "execution_count": 14,
   "metadata": {},
   "outputs": [],
   "source": [
    "import jax\n",
    "env = Rodent()"
   ]
  },
  {
   "cell_type": "code",
   "execution_count": 15,
   "metadata": {},
   "outputs": [],
   "source": [
    "key = jax.random.PRNGKey(0)\n",
    "state = env.reset(key)"
   ]
  },
  {
   "cell_type": "code",
   "execution_count": 16,
   "metadata": {},
   "outputs": [
    {
     "data": {
      "text/plain": [
       "dict_keys(['pipeline_state', 'obs', 'reward', 'done', 'metrics', 'info'])"
      ]
     },
     "execution_count": 16,
     "metadata": {},
     "output_type": "execute_result"
    }
   ],
   "source": [
    "state.__dict__.keys()"
   ]
  },
  {
   "cell_type": "code",
   "execution_count": 17,
   "metadata": {},
   "outputs": [
    {
     "name": "stdout",
     "output_type": "stream",
     "text": [
      "<class 'brax.mjx.base.State'>\n",
      "<class 'jaxlib.xla_extension.ArrayImpl'>\n",
      "<class 'jaxlib.xla_extension.ArrayImpl'>\n",
      "<class 'jaxlib.xla_extension.ArrayImpl'>\n",
      "<class 'dict'>\n",
      "<class 'dict'>\n"
     ]
    }
   ],
   "source": [
    "for k in state.__dict__.keys():\n",
    "    print(type(getattr(state, k)))\n",
    "    "
   ]
  },
  {
   "cell_type": "code",
   "execution_count": 18,
   "metadata": {},
   "outputs": [
    {
     "name": "stdout",
     "output_type": "stream",
     "text": [
      "<class 'brax.base.Contact'>\n"
     ]
    }
   ],
   "source": [
    "data = state.pipeline_state\n",
    "print(type(data.contact))"
   ]
  },
  {
   "cell_type": "code",
   "execution_count": 19,
   "metadata": {},
   "outputs": [],
   "source": [
    "contact = data.contact"
   ]
  },
  {
   "cell_type": "code",
   "execution_count": 20,
   "metadata": {},
   "outputs": [
    {
     "name": "stdout",
     "output_type": "stream",
     "text": [
      "<class 'jaxlib.xla_extension.ArrayImpl'>\n",
      "<class 'jaxlib.xla_extension.ArrayImpl'>\n",
      "<class 'jaxlib.xla_extension.ArrayImpl'>\n",
      "<class 'jaxlib.xla_extension.ArrayImpl'>\n",
      "<class 'jaxlib.xla_extension.ArrayImpl'>\n",
      "<class 'jaxlib.xla_extension.ArrayImpl'>\n",
      "<class 'jaxlib.xla_extension.ArrayImpl'>\n",
      "<class 'jaxlib.xla_extension.ArrayImpl'>\n",
      "<class 'jaxlib.xla_extension.ArrayImpl'>\n",
      "<class 'jaxlib.xla_extension.ArrayImpl'>\n",
      "<class 'tuple'>\n",
      "<class 'jaxlib.xla_extension.ArrayImpl'>\n"
     ]
    }
   ],
   "source": [
    "for k in contact.__dict__.keys():\n",
    "    print(type(getattr(contact, k)))"
   ]
  },
  {
   "cell_type": "code",
   "execution_count": 21,
   "metadata": {},
   "outputs": [
    {
     "data": {
      "text/plain": [
       "(Array([-1, -1, -1, -1, -1, -1, -1, -1, -1, -1, -1, -1, -1, -1, -1, -1, -1,\n",
       "        -1, -1, -1, -1, -1, -1, -1, -1, -1, -1, -1, -1, -1, -1, -1, -1, -1],      dtype=int32),\n",
       " Array([10, 10, 11, 11, 11, 11, 11, 11, 14, 14, 15, 15, 15, 15, 15, 15, 24,\n",
       "        24, 35, 35, 59, 59, 59, 59, 59, 59, 64, 64, 64, 64, 64, 64, 58, 63],      dtype=int32))"
      ]
     },
     "execution_count": 21,
     "metadata": {},
     "output_type": "execute_result"
    },
    {
     "ename": "",
     "evalue": "",
     "output_type": "error",
     "traceback": [
      "\u001b[1;31mThe Kernel crashed while executing code in the current cell or a previous cell. \n",
      "\u001b[1;31mPlease review the code in the cell(s) to identify a possible cause of the failure. \n",
      "\u001b[1;31mClick <a href='https://aka.ms/vscodeJupyterKernelCrash'>here</a> for more info. \n",
      "\u001b[1;31mView Jupyter <a href='command:jupyter.viewOutput'>log</a> for further details."
     ]
    }
   ],
   "source": [
    "contact.link_idx"
   ]
  },
  {
   "cell_type": "code",
   "execution_count": null,
   "metadata": {},
   "outputs": [],
   "source": []
  }
 ],
 "metadata": {
  "kernelspec": {
   "display_name": "rl",
   "language": "python",
   "name": "python3"
  },
  "language_info": {
   "codemirror_mode": {
    "name": "ipython",
    "version": 3
   },
   "file_extension": ".py",
   "mimetype": "text/x-python",
   "name": "python",
   "nbconvert_exporter": "python",
   "pygments_lexer": "ipython3",
   "version": "3.11.4"
  }
 },
 "nbformat": 4,
 "nbformat_minor": 2
}
