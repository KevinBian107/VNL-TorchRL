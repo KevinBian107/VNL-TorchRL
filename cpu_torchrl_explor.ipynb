{
 "cells": [
  {
   "cell_type": "code",
   "execution_count": 3,
   "metadata": {},
   "outputs": [
    {
     "ename": "ModuleNotFoundError",
     "evalue": "No module named 'hydra'",
     "output_type": "error",
     "traceback": [
      "\u001b[0;31m---------------------------------------------------------------------------\u001b[0m",
      "\u001b[0;31mModuleNotFoundError\u001b[0m                       Traceback (most recent call last)",
      "Cell \u001b[0;32mIn[3], line 5\u001b[0m\n\u001b[1;32m      3\u001b[0m \u001b[38;5;28;01mfrom\u001b[39;00m \u001b[38;5;21;01mRodent_Env_Brax\u001b[39;00m \u001b[38;5;28;01mimport\u001b[39;00m Rodent\n\u001b[1;32m      4\u001b[0m \u001b[38;5;28;01mimport\u001b[39;00m \u001b[38;5;21;01mtorchrl\u001b[39;00m\n\u001b[0;32m----> 5\u001b[0m \u001b[38;5;28;01mimport\u001b[39;00m \u001b[38;5;21;01mcustom_torchrl_env\u001b[39;00m\n",
      "File \u001b[0;32m~/Desktop/salk/rodent/VNL-TorchRL/custom_torchrl_env.py:7\u001b[0m\n\u001b[1;32m      5\u001b[0m \u001b[38;5;28;01mimport\u001b[39;00m \u001b[38;5;21;01mtorchrl\u001b[39;00m\u001b[38;5;21;01m.\u001b[39;00m\u001b[38;5;21;01mdata\u001b[39;00m\n\u001b[1;32m      6\u001b[0m \u001b[38;5;28;01mfrom\u001b[39;00m \u001b[38;5;21;01mtensordict\u001b[39;00m \u001b[38;5;28;01mimport\u001b[39;00m TensorDict\n\u001b[0;32m----> 7\u001b[0m \u001b[38;5;28;01mimport\u001b[39;00m \u001b[38;5;21;01mhydra\u001b[39;00m\u001b[38;5;21;01m.\u001b[39;00m\u001b[38;5;21;01mutils\u001b[39;00m\n\u001b[1;32m      9\u001b[0m \u001b[38;5;28;01mimport\u001b[39;00m \u001b[38;5;21;01mmujoco\u001b[39;00m\n\u001b[1;32m     10\u001b[0m \u001b[38;5;66;03m#This package is in a fork of MuJoCo: https://github.com/emiwar/mujoco/tree/feature/simulation_pool\u001b[39;00m\n\u001b[1;32m     11\u001b[0m \u001b[38;5;66;03m#Build and install according to \u001b[39;00m\n\u001b[1;32m     12\u001b[0m \u001b[38;5;66;03m#https://mujoco.readthedocs.io/en/stable/programming/index.html#building-from-source\u001b[39;00m\n",
      "\u001b[0;31mModuleNotFoundError\u001b[0m: No module named 'hydra'"
     ]
    }
   ],
   "source": [
    "from torchrl.envs import BraxWrapper\n",
    "import brax.envs as brax_envs\n",
    "from Rodent_Env_Brax import Rodent\n",
    "import torchrl\n",
    "import custom_torchrl_env"
   ]
  },
  {
   "cell_type": "code",
   "execution_count": null,
   "metadata": {},
   "outputs": [],
   "source": [
    "env = custom_torchrl_env.RodentRunEnv(batch_size=(16,))\n",
    "torchrl.envs.utils.check_env_specs(env)\n",
    "transEnv = torchrl.envs.TransformedEnv(\n",
    "    env,\n",
    "    torchrl.envs.Compose(\n",
    "        # normalize observations\n",
    "        #torchrl.envs.VecNorm(in_keys=[\"observation\"]),\n",
    "        torchrl.envs.StepCounter(max_steps=5000),\n",
    "        torchrl.envs.RewardSum()\n",
    "    ),\n",
    ")"
   ]
  }
 ],
 "metadata": {
  "kernelspec": {
   "display_name": ".venv",
   "language": "python",
   "name": "python3"
  },
  "language_info": {
   "codemirror_mode": {
    "name": "ipython",
    "version": 3
   },
   "file_extension": ".py",
   "mimetype": "text/x-python",
   "name": "python",
   "nbconvert_exporter": "python",
   "pygments_lexer": "ipython3",
   "version": "3.11.4"
  }
 },
 "nbformat": 4,
 "nbformat_minor": 2
}
