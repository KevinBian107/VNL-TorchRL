{
 "cells": [
  {
   "cell_type": "code",
   "execution_count": 16,
   "metadata": {
    "tags": []
   },
   "outputs": [],
   "source": [
    "! source ../cpu_mujoco/bin/activate"
   ]
  },
  {
   "cell_type": "code",
   "execution_count": 18,
   "metadata": {
    "tags": []
   },
   "outputs": [
    {
     "ename": "ModuleNotFoundError",
     "evalue": "No module named 'mujoco._simulation_pool'",
     "output_type": "error",
     "traceback": [
      "\u001b[0;31m---------------------------------------------------------------------------\u001b[0m",
      "\u001b[0;31mModuleNotFoundError\u001b[0m                       Traceback (most recent call last)",
      "Cell \u001b[0;32mIn[18], line 5\u001b[0m\n\u001b[1;32m      3\u001b[0m \u001b[38;5;28;01mfrom\u001b[39;00m \u001b[38;5;21;01mRodent_Env_Brax\u001b[39;00m \u001b[38;5;28;01mimport\u001b[39;00m Rodent\n\u001b[1;32m      4\u001b[0m \u001b[38;5;28;01mimport\u001b[39;00m \u001b[38;5;21;01mtorchrl\u001b[39;00m\n\u001b[0;32m----> 5\u001b[0m \u001b[38;5;28;01mimport\u001b[39;00m \u001b[38;5;21;01mcustom_torchrl_env\u001b[39;00m\n",
      "File \u001b[0;32m~/VNL-TorchRL/custom_torchrl_env.py:14\u001b[0m\n\u001b[1;32m      9\u001b[0m \u001b[38;5;28;01mimport\u001b[39;00m \u001b[38;5;21;01mmujoco\u001b[39;00m\n\u001b[1;32m     10\u001b[0m \u001b[38;5;66;03m#This package is in a fork of MuJoCo: https://github.com/emiwar/mujoco/tree/feature/simulation_pool\u001b[39;00m\n\u001b[1;32m     11\u001b[0m \u001b[38;5;66;03m#Build and install according to \u001b[39;00m\n\u001b[1;32m     12\u001b[0m \u001b[38;5;66;03m#https://mujoco.readthedocs.io/en/stable/programming/index.html#building-from-source\u001b[39;00m\n\u001b[0;32m---> 14\u001b[0m \u001b[38;5;28;01mimport\u001b[39;00m \u001b[38;5;21;01mmujoco\u001b[39;00m\u001b[38;5;21;01m.\u001b[39;00m\u001b[38;5;21;01m_simulation_pool\u001b[39;00m\n\u001b[1;32m     16\u001b[0m \u001b[38;5;28;01mclass\u001b[39;00m \u001b[38;5;21;01mCustomMujocoEnvBase\u001b[39;00m(torchrl\u001b[38;5;241m.\u001b[39menvs\u001b[38;5;241m.\u001b[39mEnvBase):\n\u001b[1;32m     17\u001b[0m     \u001b[38;5;28;01mdef\u001b[39;00m \u001b[38;5;21m__init__\u001b[39m(\u001b[38;5;28mself\u001b[39m, mj_model: mujoco\u001b[38;5;241m.\u001b[39mMjModel, seed\u001b[38;5;241m=\u001b[39m\u001b[38;5;28;01mNone\u001b[39;00m, batch_size\u001b[38;5;241m=\u001b[39m[], device\u001b[38;5;241m=\u001b[39m\u001b[38;5;124m\"\u001b[39m\u001b[38;5;124mcpu\u001b[39m\u001b[38;5;124m\"\u001b[39m,\n\u001b[1;32m     18\u001b[0m                  worker_thread_count:\u001b[38;5;28mint\u001b[39m \u001b[38;5;241m=\u001b[39m os\u001b[38;5;241m.\u001b[39mcpu_count()):\n",
      "\u001b[0;31mModuleNotFoundError\u001b[0m: No module named 'mujoco._simulation_pool'"
     ]
    }
   ],
   "source": [
    "from torchrl.envs import BraxWrapper\n",
    "import brax.envs as brax_envs\n",
    "from Rodent_Env_Brax import Rodent\n",
    "import torchrl\n",
    "import custom_torchrl_env"
   ]
  },
  {
   "cell_type": "code",
   "execution_count": 4,
   "metadata": {
    "tags": []
   },
   "outputs": [
    {
     "ename": "NameError",
     "evalue": "name 'custom_torchrl_env' is not defined",
     "output_type": "error",
     "traceback": [
      "\u001b[0;31m---------------------------------------------------------------------------\u001b[0m",
      "\u001b[0;31mNameError\u001b[0m                                 Traceback (most recent call last)",
      "Cell \u001b[0;32mIn[4], line 1\u001b[0m\n\u001b[0;32m----> 1\u001b[0m env \u001b[38;5;241m=\u001b[39m \u001b[43mcustom_torchrl_env\u001b[49m\u001b[38;5;241m.\u001b[39mRodentRunEnv(batch_size\u001b[38;5;241m=\u001b[39m(\u001b[38;5;241m16\u001b[39m,))\n\u001b[1;32m      2\u001b[0m torchrl\u001b[38;5;241m.\u001b[39menvs\u001b[38;5;241m.\u001b[39mutils\u001b[38;5;241m.\u001b[39mcheck_env_specs(env)\n\u001b[1;32m      3\u001b[0m transEnv \u001b[38;5;241m=\u001b[39m torchrl\u001b[38;5;241m.\u001b[39menvs\u001b[38;5;241m.\u001b[39mTransformedEnv(\n\u001b[1;32m      4\u001b[0m     env,\n\u001b[1;32m      5\u001b[0m     torchrl\u001b[38;5;241m.\u001b[39menvs\u001b[38;5;241m.\u001b[39mCompose(\n\u001b[0;32m   (...)\u001b[0m\n\u001b[1;32m     10\u001b[0m     ),\n\u001b[1;32m     11\u001b[0m )\n",
      "\u001b[0;31mNameError\u001b[0m: name 'custom_torchrl_env' is not defined"
     ]
    }
   ],
   "source": [
    "env = custom_torchrl_env.RodentRunEnv(batch_size=(16,))\n",
    "torchrl.envs.utils.check_env_specs(env)\n",
    "transEnv = torchrl.envs.TransformedEnv(\n",
    "    env,\n",
    "    torchrl.envs.Compose(\n",
    "        # normalize observations\n",
    "        #torchrl.envs.VecNorm(in_keys=[\"observation\"]),\n",
    "        torchrl.envs.StepCounter(max_steps=5000),\n",
    "        torchrl.envs.RewardSum()\n",
    "    ),\n",
    ")"
   ]
  },
  {
   "cell_type": "code",
   "execution_count": null,
   "metadata": {},
   "outputs": [],
   "source": []
  }
 ],
 "metadata": {
  "kernelspec": {
   "display_name": "Python 3 (ipykernel)",
   "language": "python",
   "name": "python3"
  },
  "language_info": {
   "codemirror_mode": {
    "name": "ipython",
    "version": 3
   },
   "file_extension": ".py",
   "mimetype": "text/x-python",
   "name": "python",
   "nbconvert_exporter": "python",
   "pygments_lexer": "ipython3",
   "version": "3.11.4"
  }
 },
 "nbformat": 4,
 "nbformat_minor": 4
}
