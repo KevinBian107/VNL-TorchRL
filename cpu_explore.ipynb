{
 "cells": [
  {
   "cell_type": "code",
   "execution_count": 33,
   "metadata": {
    "tags": []
   },
   "outputs": [],
   "source": [
    "from custom_torchrl_env import RodentRunEnv\n",
    "import torchrl\n",
    "import utils_cpu_mujoco\n",
    "import torch\n",
    "import numpy as np"
   ]
  },
  {
   "cell_type": "code",
   "execution_count": 17,
   "metadata": {
    "tags": []
   },
   "outputs": [],
   "source": [
    "env = utils_cpu_mujoco.make_env(batch_size=[1], \n",
    "                            worker_threads=12, \n",
    "                            device=\"cuda\")"
   ]
  },
  {
   "cell_type": "code",
   "execution_count": 18,
   "metadata": {
    "tags": []
   },
   "outputs": [
    {
     "name": "stderr",
     "output_type": "stream",
     "text": [
      "2024-04-15 19:52:29,006 [torchrl][INFO] check_env_specs succeeded!\n"
     ]
    }
   ],
   "source": [
    "torchrl.envs.utils.check_env_specs(env)"
   ]
  },
  {
   "cell_type": "code",
   "execution_count": 21,
   "metadata": {
    "tags": []
   },
   "outputs": [
    {
     "data": {
      "text/plain": [
       "TransformedEnv(\n",
       "    env=RodentRunEnv(),\n",
       "    transform=Compose(\n",
       "            RewardSum(keys=['reward']),\n",
       "            StepCounter(keys=[])))"
      ]
     },
     "execution_count": 21,
     "metadata": {},
     "output_type": "execute_result"
    }
   ],
   "source": [
    "env"
   ]
  },
  {
   "cell_type": "code",
   "execution_count": 24,
   "metadata": {
    "tags": []
   },
   "outputs": [
    {
     "data": {
      "text/plain": [
       "TensorDict(\n",
       "    fields={\n",
       "        action: Tensor(shape=torch.Size([1, 1, 30]), device=cuda:0, dtype=torch.float32, is_shared=True),\n",
       "        done: Tensor(shape=torch.Size([1, 1, 1]), device=cuda:0, dtype=torch.bool, is_shared=True),\n",
       "        episode_reward: Tensor(shape=torch.Size([1, 1, 1]), device=cuda:0, dtype=torch.float32, is_shared=True),\n",
       "        info: TensorDict(\n",
       "            fields={\n",
       "                center_of_mass: Tensor(shape=torch.Size([1, 1, 3]), device=cuda:0, dtype=torch.float32, is_shared=True),\n",
       "                velocity: Tensor(shape=torch.Size([1, 1, 3]), device=cuda:0, dtype=torch.float32, is_shared=True)},\n",
       "            batch_size=torch.Size([1, 1]),\n",
       "            device=None,\n",
       "            is_shared=False),\n",
       "        next: TensorDict(\n",
       "            fields={\n",
       "                done: Tensor(shape=torch.Size([1, 1, 1]), device=cuda:0, dtype=torch.bool, is_shared=True),\n",
       "                episode_reward: Tensor(shape=torch.Size([1, 1, 1]), device=cuda:0, dtype=torch.float32, is_shared=True),\n",
       "                info: TensorDict(\n",
       "                    fields={\n",
       "                        center_of_mass: Tensor(shape=torch.Size([1, 1, 3]), device=cuda:0, dtype=torch.float32, is_shared=True),\n",
       "                        velocity: Tensor(shape=torch.Size([1, 1, 3]), device=cuda:0, dtype=torch.float32, is_shared=True)},\n",
       "                    batch_size=torch.Size([1, 1]),\n",
       "                    device=None,\n",
       "                    is_shared=False),\n",
       "                observation: Tensor(shape=torch.Size([1, 1, 178]), device=cuda:0, dtype=torch.float32, is_shared=True),\n",
       "                reward: Tensor(shape=torch.Size([1, 1, 1]), device=cuda:0, dtype=torch.float32, is_shared=True),\n",
       "                step_count: Tensor(shape=torch.Size([1, 1, 1]), device=cuda:0, dtype=torch.int64, is_shared=True),\n",
       "                terminated: Tensor(shape=torch.Size([1, 1, 1]), device=cuda:0, dtype=torch.bool, is_shared=True)},\n",
       "            batch_size=torch.Size([1, 1]),\n",
       "            device=None,\n",
       "            is_shared=False),\n",
       "        observation: Tensor(shape=torch.Size([1, 1, 178]), device=cuda:0, dtype=torch.float32, is_shared=True),\n",
       "        step_count: Tensor(shape=torch.Size([1, 1, 1]), device=cuda:0, dtype=torch.int64, is_shared=True),\n",
       "        terminated: Tensor(shape=torch.Size([1, 1, 1]), device=cuda:0, dtype=torch.bool, is_shared=True)},\n",
       "    batch_size=torch.Size([1, 1]),\n",
       "    device=None,\n",
       "    is_shared=False)"
      ]
     },
     "execution_count": 24,
     "metadata": {},
     "output_type": "execute_result"
    }
   ],
   "source": [
    "env.rollout(1)"
   ]
  },
  {
   "cell_type": "code",
   "execution_count": 23,
   "metadata": {
    "tags": []
   },
   "outputs": [
    {
     "data": {
      "text/plain": [
       "TensorDict(\n",
       "    fields={\n",
       "        center_of_mass: Tensor(shape=torch.Size([1, 1, 3]), device=cuda:0, dtype=torch.float32, is_shared=True),\n",
       "        velocity: Tensor(shape=torch.Size([1, 1, 3]), device=cuda:0, dtype=torch.float32, is_shared=True)},\n",
       "    batch_size=torch.Size([1, 1]),\n",
       "    device=None,\n",
       "    is_shared=False)"
      ]
     },
     "execution_count": 23,
     "metadata": {},
     "output_type": "execute_result"
    }
   ],
   "source": [
    "env.rollout(1)['info']"
   ]
  },
  {
   "cell_type": "code",
   "execution_count": 25,
   "metadata": {
    "tags": []
   },
   "outputs": [
    {
     "data": {
      "text/plain": [
       "tensor([[[0., 0., 0.]]], device='cuda:0')"
      ]
     },
     "execution_count": 25,
     "metadata": {},
     "output_type": "execute_result"
    }
   ],
   "source": [
    "env.rollout(1)['info']['center_of_mass']"
   ]
  },
  {
   "cell_type": "code",
   "execution_count": 37,
   "metadata": {
    "tags": []
   },
   "outputs": [
    {
     "data": {
      "text/plain": [
       "torch.Size([1, 69, 3])"
      ]
     },
     "execution_count": 37,
     "metadata": {},
     "output_type": "execute_result"
    }
   ],
   "source": [
    "torch.from_numpy(np.array(env.simulation_pool.getSubtree_com())).shape # which one is correct?"
   ]
  },
  {
   "cell_type": "code",
   "execution_count": 43,
   "metadata": {
    "tags": []
   },
   "outputs": [
    {
     "data": {
      "text/plain": [
       "tensor([[10.2024,  0.0000, -0.1600]], dtype=torch.float64)"
      ]
     },
     "execution_count": 43,
     "metadata": {},
     "output_type": "execute_result"
    }
   ],
   "source": [
    "torch.from_numpy(np.array(env.simulation_pool.getSubtree_com())[:,2,:]) # first 1 is 0,0,0 (should be environment), second one don't have y"
   ]
  },
  {
   "cell_type": "code",
   "execution_count": 7,
   "metadata": {
    "tags": []
   },
   "outputs": [],
   "source": [
    "td = env.reset()"
   ]
  },
  {
   "cell_type": "code",
   "execution_count": 8,
   "metadata": {
    "tags": []
   },
   "outputs": [
    {
     "data": {
      "text/plain": [
       "TensorDict(\n",
       "    fields={\n",
       "        done: Tensor(shape=torch.Size([16, 1]), device=cuda:0, dtype=torch.bool, is_shared=True),\n",
       "        episode_reward: Tensor(shape=torch.Size([16, 1]), device=cuda:0, dtype=torch.float32, is_shared=True),\n",
       "        info: TensorDict(\n",
       "            fields={\n",
       "                center_of_mass: Tensor(shape=torch.Size([16, 3]), device=cuda:0, dtype=torch.float32, is_shared=True),\n",
       "                velocity: Tensor(shape=torch.Size([16, 3]), device=cuda:0, dtype=torch.float32, is_shared=True)},\n",
       "            batch_size=torch.Size([16]),\n",
       "            device=None,\n",
       "            is_shared=False),\n",
       "        observation: Tensor(shape=torch.Size([16, 178]), device=cuda:0, dtype=torch.float32, is_shared=True),\n",
       "        step_count: Tensor(shape=torch.Size([16, 1]), device=cuda:0, dtype=torch.int64, is_shared=True),\n",
       "        terminated: Tensor(shape=torch.Size([16, 1]), device=cuda:0, dtype=torch.bool, is_shared=True)},\n",
       "    batch_size=torch.Size([16]),\n",
       "    device=None,\n",
       "    is_shared=False)"
      ]
     },
     "execution_count": 8,
     "metadata": {},
     "output_type": "execute_result"
    }
   ],
   "source": [
    "td"
   ]
  },
  {
   "cell_type": "code",
   "execution_count": 44,
   "metadata": {
    "tags": []
   },
   "outputs": [],
   "source": [
    "# ~td.get('done')"
   ]
  },
  {
   "cell_type": "code",
   "execution_count": 48,
   "metadata": {
    "tags": []
   },
   "outputs": [],
   "source": [
    "# td = env.rand_step()\n",
    "# td"
   ]
  },
  {
   "cell_type": "code",
   "execution_count": null,
   "metadata": {},
   "outputs": [],
   "source": [
    "# add render check"
   ]
  },
  {
   "cell_type": "code",
   "execution_count": null,
   "metadata": {},
   "outputs": [],
   "source": []
  }
 ],
 "metadata": {
  "kernelspec": {
   "display_name": "Python 3 (ipykernel)",
   "language": "python",
   "name": "python3"
  },
  "language_info": {
   "codemirror_mode": {
    "name": "ipython",
    "version": 3
   },
   "file_extension": ".py",
   "mimetype": "text/x-python",
   "name": "python",
   "nbconvert_exporter": "python",
   "pygments_lexer": "ipython3",
   "version": "3.10.10"
  }
 },
 "nbformat": 4,
 "nbformat_minor": 4
}
